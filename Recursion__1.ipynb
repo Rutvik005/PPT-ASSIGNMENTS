{
  "nbformat": 4,
  "nbformat_minor": 0,
  "metadata": {
    "colab": {
      "provenance": []
    },
    "kernelspec": {
      "name": "python3",
      "display_name": "Python 3"
    },
    "language_info": {
      "name": "python"
    }
  },
  "cells": [
    {
      "cell_type": "markdown",
      "source": [
        "##ANS 1"
      ],
      "metadata": {
        "id": "tykMwjiSqmI5"
      }
    },
    {
      "cell_type": "code",
      "execution_count": 1,
      "metadata": {
        "colab": {
          "base_uri": "https://localhost:8080/"
        },
        "id": "aYVGRPVPqgIG",
        "outputId": "985931ca-89a9-4190-9167-f47bd5bba71a"
      },
      "outputs": [
        {
          "output_type": "stream",
          "name": "stdout",
          "text": [
            "True\n",
            "True\n",
            "False\n"
          ]
        }
      ],
      "source": [
        "def is_power_of_two(n):\n",
        "    if n <= 0:\n",
        "        return False\n",
        "    return n & (n - 1) == 0\n",
        "\n",
        "\n",
        "print(is_power_of_two(1))  \n",
        "print(is_power_of_two(16))   \n",
        "print(is_power_of_two(3))"
      ]
    },
    {
      "cell_type": "markdown",
      "source": [
        "##ANS 2"
      ],
      "metadata": {
        "id": "ar7LM_j6q9o8"
      }
    },
    {
      "cell_type": "code",
      "source": [
        "def sum(n):\n",
        "    return (n * (n + 1)) / 2\n",
        "\n",
        "\n",
        "print(sum(3))\n",
        "print(sum(5))"
      ],
      "metadata": {
        "colab": {
          "base_uri": "https://localhost:8080/"
        },
        "id": "F1n1CT7Aq7Tp",
        "outputId": "ccd7b18e-4d82-44ca-8fd3-27526519b080"
      },
      "execution_count": 3,
      "outputs": [
        {
          "output_type": "stream",
          "name": "stdout",
          "text": [
            "6.0\n",
            "15.0\n"
          ]
        }
      ]
    },
    {
      "cell_type": "markdown",
      "source": [
        "##ANS 3"
      ],
      "metadata": {
        "id": "uuqDk3PPridK"
      }
    },
    {
      "cell_type": "code",
      "source": [
        "def fact(n):\n",
        "    if n == 0:\n",
        "        return 1\n",
        "    return n * fact(n - 1)\n",
        "\n",
        "print(fact(5))\n",
        "print(fact(4))"
      ],
      "metadata": {
        "colab": {
          "base_uri": "https://localhost:8080/"
        },
        "id": "m9fsSEjQrT_g",
        "outputId": "bfdb7099-b318-4d89-ce02-943060eb9418"
      },
      "execution_count": 4,
      "outputs": [
        {
          "output_type": "stream",
          "name": "stdout",
          "text": [
            "120\n",
            "24\n"
          ]
        }
      ]
    },
    {
      "cell_type": "markdown",
      "source": [
        "##ANS 4"
      ],
      "metadata": {
        "id": "l1WMtG0br61r"
      }
    },
    {
      "cell_type": "code",
      "source": [
        "def find_exponent(N, P):\n",
        "    return N ** P\n",
        "\n",
        "print(find_exponent(2, 5))  \n",
        "print(find_exponent(5, 2)) "
      ],
      "metadata": {
        "colab": {
          "base_uri": "https://localhost:8080/"
        },
        "id": "h_x0JFW1r1Ce",
        "outputId": "bc86943d-8574-4665-db4e-162277a8510d"
      },
      "execution_count": 5,
      "outputs": [
        {
          "output_type": "stream",
          "name": "stdout",
          "text": [
            "32\n",
            "25\n"
          ]
        }
      ]
    },
    {
      "cell_type": "markdown",
      "source": [
        "##ANS 5"
      ],
      "metadata": {
        "id": "3BknnuYusWO1"
      }
    },
    {
      "cell_type": "code",
      "source": [
        "def find_max(arr):\n",
        "    if len(arr) == 1:\n",
        "        return arr[0]\n",
        "    else:\n",
        "        return max(arr[0], find_max(arr[1:]))\n",
        "\n",
        "print(find_max([1, 4, 3, -5, -4, 8, 6])) \n",
        "print(find_max([1, 4, 45, 6, 10, -8])) \n"
      ],
      "metadata": {
        "colab": {
          "base_uri": "https://localhost:8080/"
        },
        "id": "0laqi4Q0sL1d",
        "outputId": "45b7b377-4ac8-42fb-8bb7-13120cb5d01e"
      },
      "execution_count": 6,
      "outputs": [
        {
          "output_type": "stream",
          "name": "stdout",
          "text": [
            "8\n",
            "45\n"
          ]
        }
      ]
    },
    {
      "cell_type": "markdown",
      "source": [
        "##ANS 6"
      ],
      "metadata": {
        "id": "OYLxe0_js925"
      }
    },
    {
      "cell_type": "code",
      "source": [
        "def find_nth_term(a, d, N):\n",
        "    return a + (N - 1) * d\n",
        "\n",
        "print(find_nth_term(2, 1, 5))\n",
        "print(find_nth_term(5, 2, 10))"
      ],
      "metadata": {
        "colab": {
          "base_uri": "https://localhost:8080/"
        },
        "id": "atqc47Rjsv0z",
        "outputId": "712b575d-4957-439a-b498-f75030e7a55f"
      },
      "execution_count": 7,
      "outputs": [
        {
          "output_type": "stream",
          "name": "stdout",
          "text": [
            "6\n",
            "23\n"
          ]
        }
      ]
    },
    {
      "cell_type": "markdown",
      "source": [
        "##ANS 7"
      ],
      "metadata": {
        "id": "hKQ5gL2ftTCK"
      }
    },
    {
      "cell_type": "code",
      "source": [
        "def permute_string(s):\n",
        "    \n",
        "    if len(s) == 0:\n",
        "        return []\n",
        "\n",
        "    \n",
        "    if len(s) == 1:\n",
        "        return [s]\n",
        "\n",
        "    permutations = [] \n",
        "\n",
        "   \n",
        "    for i in range(len(s)):\n",
        "       \n",
        "        current_char = s[i]\n",
        "\n",
        "   \n",
        "        remaining_chars = s[:i] + s[i+1:]\n",
        "        sub_permutations = permute_string(remaining_chars)\n",
        "\n",
        "        \n",
        "        for sub_permutation in sub_permutations:\n",
        "            permutations.append(current_char + sub_permutation)\n",
        "\n",
        "    return permutations\n",
        "\n",
        "\n",
        "string = \"abc\"\n",
        "permutations = permute_string(string)\n",
        "for permutation in permutations:\n",
        "    print(permutation)\n",
        "\n"
      ],
      "metadata": {
        "colab": {
          "base_uri": "https://localhost:8080/"
        },
        "id": "EEnr-Da8tR-j",
        "outputId": "7ff5e815-8757-44b8-8a21-fe970656327a"
      },
      "execution_count": 9,
      "outputs": [
        {
          "output_type": "stream",
          "name": "stdout",
          "text": [
            "abc\n",
            "acb\n",
            "bac\n",
            "bca\n",
            "cab\n",
            "cba\n"
          ]
        }
      ]
    },
    {
      "cell_type": "markdown",
      "source": [
        "##ANS 8"
      ],
      "metadata": {
        "id": "UJLYFHoDt7as"
      }
    },
    {
      "cell_type": "code",
      "source": [
        "def product_of_array(arr):\n",
        "    product = 1\n",
        "    for num in arr:\n",
        "        product *= num\n",
        "    return product\n",
        "\n",
        "\n",
        "print(product_of_array([1, 2, 3, 4, 5]))\n",
        "print(product_of_array([1, 6, 3])) "
      ],
      "metadata": {
        "colab": {
          "base_uri": "https://localhost:8080/"
        },
        "id": "-BUDIS6ytrsT",
        "outputId": "12bb1371-f2f9-4e67-c35d-f4570288252b"
      },
      "execution_count": 10,
      "outputs": [
        {
          "output_type": "stream",
          "name": "stdout",
          "text": [
            "120\n",
            "18\n"
          ]
        }
      ]
    },
    {
      "cell_type": "code",
      "source": [],
      "metadata": {
        "id": "iBn4Dp4ruQZ_"
      },
      "execution_count": null,
      "outputs": []
    }
  ]
}